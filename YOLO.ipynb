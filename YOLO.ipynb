{
 "cells": [
  {
   "cell_type": "code",
   "execution_count": 1,
   "metadata": {},
   "outputs": [
    {
     "name": "stdout",
     "output_type": "stream",
     "text": [
      "Requirement already satisfied: torch==1.11.0 in c:\\users\\leonardo.dorneles\\appdata\\local\\programs\\python\\python310\\lib\\site-packages (1.11.0)Note: you may need to restart the kernel to use updated packages.\n",
      "\n",
      "Requirement already satisfied: torchvision in c:\\users\\leonardo.dorneles\\appdata\\local\\programs\\python\\python310\\lib\\site-packages (0.12.0)\n",
      "Requirement already satisfied: torchaudio in c:\\users\\leonardo.dorneles\\appdata\\local\\programs\\python\\python310\\lib\\site-packages (0.11.0)\n",
      "Requirement already satisfied: typing-extensions in c:\\users\\leonardo.dorneles\\appdata\\local\\programs\\python\\python310\\lib\\site-packages (from torch==1.11.0) (4.5.0)\n",
      "Requirement already satisfied: requests in c:\\users\\leonardo.dorneles\\appdata\\local\\programs\\python\\python310\\lib\\site-packages (from torchvision) (2.28.2)\n",
      "Requirement already satisfied: pillow!=8.3.*,>=5.3.0 in c:\\users\\leonardo.dorneles\\appdata\\local\\programs\\python\\python310\\lib\\site-packages (from torchvision) (9.4.0)\n",
      "Requirement already satisfied: numpy in c:\\users\\leonardo.dorneles\\appdata\\local\\programs\\python\\python310\\lib\\site-packages (from torchvision) (1.24.2)\n",
      "Requirement already satisfied: urllib3<1.27,>=1.21.1 in c:\\users\\leonardo.dorneles\\appdata\\local\\programs\\python\\python310\\lib\\site-packages (from requests->torchvision) (1.26.14)\n",
      "Requirement already satisfied: charset-normalizer<4,>=2 in c:\\users\\leonardo.dorneles\\appdata\\local\\programs\\python\\python310\\lib\\site-packages (from requests->torchvision) (3.0.1)\n",
      "Requirement already satisfied: certifi>=2017.4.17 in c:\\users\\leonardo.dorneles\\appdata\\local\\programs\\python\\python310\\lib\\site-packages (from requests->torchvision) (2022.12.7)\n",
      "Requirement already satisfied: idna<4,>=2.5 in c:\\users\\leonardo.dorneles\\appdata\\local\\programs\\python\\python310\\lib\\site-packages (from requests->torchvision) (3.4)\n"
     ]
    }
   ],
   "source": [
    "%pip install torch==1.11.0 torchvision torchaudio"
   ]
  },
  {
   "cell_type": "code",
   "execution_count": 2,
   "metadata": {},
   "outputs": [
    {
     "name": "stdout",
     "output_type": "stream",
     "text": [
      "Requirement already satisfied: gitpython in c:\\users\\leonardo.dorneles\\appdata\\local\\programs\\python\\python310\\lib\\site-packages (from -r yolov5/requirements.txt (line 5)) (3.1.31)Note: you may need to restart the kernel to use updated packages.\n",
      "\n",
      "Requirement already satisfied: ipython in c:\\users\\leonardo.dorneles\\appdata\\roaming\\python\\python310\\site-packages (from -r yolov5/requirements.txt (line 6)) (8.10.0)\n",
      "Requirement already satisfied: matplotlib>=3.2.2 in c:\\users\\leonardo.dorneles\\appdata\\local\\programs\\python\\python310\\lib\\site-packages (from -r yolov5/requirements.txt (line 7)) (3.7.0)\n",
      "Requirement already satisfied: numpy>=1.18.5 in c:\\users\\leonardo.dorneles\\appdata\\local\\programs\\python\\python310\\lib\\site-packages (from -r yolov5/requirements.txt (line 8)) (1.24.2)\n",
      "Requirement already satisfied: opencv-python>=4.1.1 in c:\\users\\leonardo.dorneles\\appdata\\local\\programs\\python\\python310\\lib\\site-packages (from -r yolov5/requirements.txt (line 9)) (4.7.0.72)\n",
      "Requirement already satisfied: Pillow>=7.1.2 in c:\\users\\leonardo.dorneles\\appdata\\local\\programs\\python\\python310\\lib\\site-packages (from -r yolov5/requirements.txt (line 10)) (9.4.0)\n",
      "Requirement already satisfied: psutil in c:\\users\\leonardo.dorneles\\appdata\\roaming\\python\\python310\\site-packages (from -r yolov5/requirements.txt (line 11)) (5.9.4)\n",
      "Requirement already satisfied: PyYAML>=5.3.1 in c:\\users\\leonardo.dorneles\\appdata\\local\\programs\\python\\python310\\lib\\site-packages (from -r yolov5/requirements.txt (line 12)) (6.0)\n",
      "Requirement already satisfied: requests>=2.23.0 in c:\\users\\leonardo.dorneles\\appdata\\local\\programs\\python\\python310\\lib\\site-packages (from -r yolov5/requirements.txt (line 13)) (2.28.2)\n",
      "Requirement already satisfied: scipy>=1.4.1 in c:\\users\\leonardo.dorneles\\appdata\\local\\programs\\python\\python310\\lib\\site-packages (from -r yolov5/requirements.txt (line 14)) (1.10.1)\n",
      "Requirement already satisfied: thop>=0.1.1 in c:\\users\\leonardo.dorneles\\appdata\\local\\programs\\python\\python310\\lib\\site-packages (from -r yolov5/requirements.txt (line 15)) (0.1.1.post2209072238)\n",
      "Requirement already satisfied: torch>=1.7.0 in c:\\users\\leonardo.dorneles\\appdata\\local\\programs\\python\\python310\\lib\\site-packages (from -r yolov5/requirements.txt (line 16)) (1.11.0)\n",
      "Requirement already satisfied: torchvision>=0.8.1 in c:\\users\\leonardo.dorneles\\appdata\\local\\programs\\python\\python310\\lib\\site-packages (from -r yolov5/requirements.txt (line 17)) (0.12.0)\n",
      "Requirement already satisfied: tqdm>=4.64.0 in c:\\users\\leonardo.dorneles\\appdata\\local\\programs\\python\\python310\\lib\\site-packages (from -r yolov5/requirements.txt (line 18)) (4.64.1)\n",
      "Requirement already satisfied: tensorboard>=2.4.1 in c:\\users\\leonardo.dorneles\\appdata\\local\\programs\\python\\python310\\lib\\site-packages (from -r yolov5/requirements.txt (line 22)) (2.12.0)\n",
      "Requirement already satisfied: pandas>=1.1.4 in c:\\users\\leonardo.dorneles\\appdata\\local\\programs\\python\\python310\\lib\\site-packages (from -r yolov5/requirements.txt (line 27)) (1.5.3)\n",
      "Requirement already satisfied: seaborn>=0.11.0 in c:\\users\\leonardo.dorneles\\appdata\\local\\programs\\python\\python310\\lib\\site-packages (from -r yolov5/requirements.txt (line 28)) (0.12.2)\n",
      "Requirement already satisfied: setuptools>=65.5.1 in c:\\users\\leonardo.dorneles\\appdata\\local\\programs\\python\\python310\\lib\\site-packages (from -r yolov5/requirements.txt (line 42)) (67.4.0)\n",
      "Requirement already satisfied: wheel>=0.38.0 in c:\\users\\leonardo.dorneles\\appdata\\local\\programs\\python\\python310\\lib\\site-packages (from -r yolov5/requirements.txt (line 43)) (0.38.4)\n",
      "Requirement already satisfied: gitdb<5,>=4.0.1 in c:\\users\\leonardo.dorneles\\appdata\\local\\programs\\python\\python310\\lib\\site-packages (from gitpython->-r yolov5/requirements.txt (line 5)) (4.0.10)\n",
      "Requirement already satisfied: matplotlib-inline in c:\\users\\leonardo.dorneles\\appdata\\roaming\\python\\python310\\site-packages (from ipython->-r yolov5/requirements.txt (line 6)) (0.1.6)\n",
      "Requirement already satisfied: pickleshare in c:\\users\\leonardo.dorneles\\appdata\\roaming\\python\\python310\\site-packages (from ipython->-r yolov5/requirements.txt (line 6)) (0.7.5)\n",
      "Requirement already satisfied: decorator in c:\\users\\leonardo.dorneles\\appdata\\roaming\\python\\python310\\site-packages (from ipython->-r yolov5/requirements.txt (line 6)) (5.1.1)\n",
      "Requirement already satisfied: backcall in c:\\users\\leonardo.dorneles\\appdata\\roaming\\python\\python310\\site-packages (from ipython->-r yolov5/requirements.txt (line 6)) (0.2.0)\n",
      "Requirement already satisfied: prompt-toolkit<3.1.0,>=3.0.30 in c:\\users\\leonardo.dorneles\\appdata\\roaming\\python\\python310\\site-packages (from ipython->-r yolov5/requirements.txt (line 6)) (3.0.37)\n",
      "Requirement already satisfied: traitlets>=5 in c:\\users\\leonardo.dorneles\\appdata\\roaming\\python\\python310\\site-packages (from ipython->-r yolov5/requirements.txt (line 6)) (5.9.0)\n",
      "Requirement already satisfied: jedi>=0.16 in c:\\users\\leonardo.dorneles\\appdata\\roaming\\python\\python310\\site-packages (from ipython->-r yolov5/requirements.txt (line 6)) (0.18.2)\n",
      "Requirement already satisfied: colorama in c:\\users\\leonardo.dorneles\\appdata\\roaming\\python\\python310\\site-packages (from ipython->-r yolov5/requirements.txt (line 6)) (0.4.6)\n",
      "Requirement already satisfied: pygments>=2.4.0 in c:\\users\\leonardo.dorneles\\appdata\\roaming\\python\\python310\\site-packages (from ipython->-r yolov5/requirements.txt (line 6)) (2.14.0)\n",
      "Requirement already satisfied: stack-data in c:\\users\\leonardo.dorneles\\appdata\\roaming\\python\\python310\\site-packages (from ipython->-r yolov5/requirements.txt (line 6)) (0.6.2)\n",
      "Requirement already satisfied: kiwisolver>=1.0.1 in c:\\users\\leonardo.dorneles\\appdata\\local\\programs\\python\\python310\\lib\\site-packages (from matplotlib>=3.2.2->-r yolov5/requirements.txt (line 7)) (1.4.4)\n",
      "Requirement already satisfied: packaging>=20.0 in c:\\users\\leonardo.dorneles\\appdata\\roaming\\python\\python310\\site-packages (from matplotlib>=3.2.2->-r yolov5/requirements.txt (line 7)) (23.0)\n",
      "Requirement already satisfied: cycler>=0.10 in c:\\users\\leonardo.dorneles\\appdata\\local\\programs\\python\\python310\\lib\\site-packages (from matplotlib>=3.2.2->-r yolov5/requirements.txt (line 7)) (0.11.0)\n",
      "Requirement already satisfied: fonttools>=4.22.0 in c:\\users\\leonardo.dorneles\\appdata\\local\\programs\\python\\python310\\lib\\site-packages (from matplotlib>=3.2.2->-r yolov5/requirements.txt (line 7)) (4.38.0)\n",
      "Requirement already satisfied: python-dateutil>=2.7 in c:\\users\\leonardo.dorneles\\appdata\\roaming\\python\\python310\\site-packages (from matplotlib>=3.2.2->-r yolov5/requirements.txt (line 7)) (2.8.2)\n",
      "Requirement already satisfied: pyparsing>=2.3.1 in c:\\users\\leonardo.dorneles\\appdata\\local\\programs\\python\\python310\\lib\\site-packages (from matplotlib>=3.2.2->-r yolov5/requirements.txt (line 7)) (3.0.9)\n",
      "Requirement already satisfied: contourpy>=1.0.1 in c:\\users\\leonardo.dorneles\\appdata\\local\\programs\\python\\python310\\lib\\site-packages (from matplotlib>=3.2.2->-r yolov5/requirements.txt (line 7)) (1.0.7)\n",
      "Requirement already satisfied: certifi>=2017.4.17 in c:\\users\\leonardo.dorneles\\appdata\\local\\programs\\python\\python310\\lib\\site-packages (from requests>=2.23.0->-r yolov5/requirements.txt (line 13)) (2022.12.7)\n",
      "Requirement already satisfied: idna<4,>=2.5 in c:\\users\\leonardo.dorneles\\appdata\\local\\programs\\python\\python310\\lib\\site-packages (from requests>=2.23.0->-r yolov5/requirements.txt (line 13)) (3.4)\n",
      "Requirement already satisfied: charset-normalizer<4,>=2 in c:\\users\\leonardo.dorneles\\appdata\\local\\programs\\python\\python310\\lib\\site-packages (from requests>=2.23.0->-r yolov5/requirements.txt (line 13)) (3.0.1)\n",
      "Requirement already satisfied: urllib3<1.27,>=1.21.1 in c:\\users\\leonardo.dorneles\\appdata\\local\\programs\\python\\python310\\lib\\site-packages (from requests>=2.23.0->-r yolov5/requirements.txt (line 13)) (1.26.14)\n",
      "Requirement already satisfied: typing-extensions in c:\\users\\leonardo.dorneles\\appdata\\local\\programs\\python\\python310\\lib\\site-packages (from torch>=1.7.0->-r yolov5/requirements.txt (line 16)) (4.5.0)\n",
      "Requirement already satisfied: tensorboard-plugin-wit>=1.6.0 in c:\\users\\leonardo.dorneles\\appdata\\local\\programs\\python\\python310\\lib\\site-packages (from tensorboard>=2.4.1->-r yolov5/requirements.txt (line 22)) (1.8.1)\n",
      "Requirement already satisfied: werkzeug>=1.0.1 in c:\\users\\leonardo.dorneles\\appdata\\local\\programs\\python\\python310\\lib\\site-packages (from tensorboard>=2.4.1->-r yolov5/requirements.txt (line 22)) (2.2.3)\n",
      "Requirement already satisfied: absl-py>=0.4 in c:\\users\\leonardo.dorneles\\appdata\\local\\programs\\python\\python310\\lib\\site-packages (from tensorboard>=2.4.1->-r yolov5/requirements.txt (line 22)) (1.4.0)\n",
      "Requirement already satisfied: grpcio>=1.48.2 in c:\\users\\leonardo.dorneles\\appdata\\local\\programs\\python\\python310\\lib\\site-packages (from tensorboard>=2.4.1->-r yolov5/requirements.txt (line 22)) (1.51.3)\n",
      "Requirement already satisfied: markdown>=2.6.8 in c:\\users\\leonardo.dorneles\\appdata\\local\\programs\\python\\python310\\lib\\site-packages (from tensorboard>=2.4.1->-r yolov5/requirements.txt (line 22)) (3.4.1)\n",
      "Requirement already satisfied: google-auth-oauthlib<0.5,>=0.4.1 in c:\\users\\leonardo.dorneles\\appdata\\local\\programs\\python\\python310\\lib\\site-packages (from tensorboard>=2.4.1->-r yolov5/requirements.txt (line 22)) (0.4.6)\n",
      "Requirement already satisfied: tensorboard-data-server<0.8.0,>=0.7.0 in c:\\users\\leonardo.dorneles\\appdata\\local\\programs\\python\\python310\\lib\\site-packages (from tensorboard>=2.4.1->-r yolov5/requirements.txt (line 22)) (0.7.0)\n",
      "Requirement already satisfied: google-auth<3,>=1.6.3 in c:\\users\\leonardo.dorneles\\appdata\\local\\programs\\python\\python310\\lib\\site-packages (from tensorboard>=2.4.1->-r yolov5/requirements.txt (line 22)) (2.16.1)\n",
      "Requirement already satisfied: protobuf>=3.19.6 in c:\\users\\leonardo.dorneles\\appdata\\local\\programs\\python\\python310\\lib\\site-packages (from tensorboard>=2.4.1->-r yolov5/requirements.txt (line 22)) (4.22.0)\n",
      "Requirement already satisfied: pytz>=2020.1 in c:\\users\\leonardo.dorneles\\appdata\\local\\programs\\python\\python310\\lib\\site-packages (from pandas>=1.1.4->-r yolov5/requirements.txt (line 27)) (2022.7.1)\n",
      "Requirement already satisfied: smmap<6,>=3.0.1 in c:\\users\\leonardo.dorneles\\appdata\\local\\programs\\python\\python310\\lib\\site-packages (from gitdb<5,>=4.0.1->gitpython->-r yolov5/requirements.txt (line 5)) (5.0.0)\n",
      "Requirement already satisfied: pyasn1-modules>=0.2.1 in c:\\users\\leonardo.dorneles\\appdata\\local\\programs\\python\\python310\\lib\\site-packages (from google-auth<3,>=1.6.3->tensorboard>=2.4.1->-r yolov5/requirements.txt (line 22)) (0.2.8)\n",
      "Requirement already satisfied: cachetools<6.0,>=2.0.0 in c:\\users\\leonardo.dorneles\\appdata\\local\\programs\\python\\python310\\lib\\site-packages (from google-auth<3,>=1.6.3->tensorboard>=2.4.1->-r yolov5/requirements.txt (line 22)) (5.3.0)\n",
      "Requirement already satisfied: rsa<5,>=3.1.4 in c:\\users\\leonardo.dorneles\\appdata\\local\\programs\\python\\python310\\lib\\site-packages (from google-auth<3,>=1.6.3->tensorboard>=2.4.1->-r yolov5/requirements.txt (line 22)) (4.9)\n",
      "Requirement already satisfied: six>=1.9.0 in c:\\users\\leonardo.dorneles\\appdata\\roaming\\python\\python310\\site-packages (from google-auth<3,>=1.6.3->tensorboard>=2.4.1->-r yolov5/requirements.txt (line 22)) (1.16.0)\n",
      "Requirement already satisfied: requests-oauthlib>=0.7.0 in c:\\users\\leonardo.dorneles\\appdata\\local\\programs\\python\\python310\\lib\\site-packages (from google-auth-oauthlib<0.5,>=0.4.1->tensorboard>=2.4.1->-r yolov5/requirements.txt (line 22)) (1.3.1)\n",
      "Requirement already satisfied: parso<0.9.0,>=0.8.0 in c:\\users\\leonardo.dorneles\\appdata\\roaming\\python\\python310\\site-packages (from jedi>=0.16->ipython->-r yolov5/requirements.txt (line 6)) (0.8.3)\n",
      "Requirement already satisfied: wcwidth in c:\\users\\leonardo.dorneles\\appdata\\roaming\\python\\python310\\site-packages (from prompt-toolkit<3.1.0,>=3.0.30->ipython->-r yolov5/requirements.txt (line 6)) (0.2.6)\n",
      "Requirement already satisfied: MarkupSafe>=2.1.1 in c:\\users\\leonardo.dorneles\\appdata\\local\\programs\\python\\python310\\lib\\site-packages (from werkzeug>=1.0.1->tensorboard>=2.4.1->-r yolov5/requirements.txt (line 22)) (2.1.2)\n",
      "Requirement already satisfied: asttokens>=2.1.0 in c:\\users\\leonardo.dorneles\\appdata\\roaming\\python\\python310\\site-packages (from stack-data->ipython->-r yolov5/requirements.txt (line 6)) (2.2.1)\n",
      "Requirement already satisfied: pure-eval in c:\\users\\leonardo.dorneles\\appdata\\roaming\\python\\python310\\site-packages (from stack-data->ipython->-r yolov5/requirements.txt (line 6)) (0.2.2)\n",
      "Requirement already satisfied: executing>=1.2.0 in c:\\users\\leonardo.dorneles\\appdata\\roaming\\python\\python310\\site-packages (from stack-data->ipython->-r yolov5/requirements.txt (line 6)) (1.2.0)\n",
      "Requirement already satisfied: pyasn1<0.5.0,>=0.4.6 in c:\\users\\leonardo.dorneles\\appdata\\local\\programs\\python\\python310\\lib\\site-packages (from pyasn1-modules>=0.2.1->google-auth<3,>=1.6.3->tensorboard>=2.4.1->-r yolov5/requirements.txt (line 22)) (0.4.8)\n",
      "Requirement already satisfied: oauthlib>=3.0.0 in c:\\users\\leonardo.dorneles\\appdata\\local\\programs\\python\\python310\\lib\\site-packages (from requests-oauthlib>=0.7.0->google-auth-oauthlib<0.5,>=0.4.1->tensorboard>=2.4.1->-r yolov5/requirements.txt (line 22)) (3.2.2)\n"
     ]
    }
   ],
   "source": [
    "!git clone https://github.com/ultralytics/yolov5\n",
    "!cd yolov5\n",
    "%pip install -r yolov5/requirements.txt"
   ]
  },
  {
   "cell_type": "code",
   "execution_count": 3,
   "metadata": {},
   "outputs": [
    {
     "name": "stderr",
     "output_type": "stream",
     "text": [
      "c:\\Users\\leonardo.dorneles\\AppData\\Local\\Programs\\Python\\Python310\\lib\\site-packages\\tqdm\\auto.py:22: TqdmWarning: IProgress not found. Please update jupyter and ipywidgets. See https://ipywidgets.readthedocs.io/en/stable/user_install.html\n",
      "  from .autonotebook import tqdm as notebook_tqdm\n"
     ]
    }
   ],
   "source": [
    "import torch\n",
    "import cv2\n",
    "import numpy as np"
   ]
  },
  {
   "cell_type": "code",
   "execution_count": 4,
   "metadata": {},
   "outputs": [
    {
     "name": "stderr",
     "output_type": "stream",
     "text": [
      "Using cache found in C:\\Users\\leonardo.dorneles/.cache\\torch\\hub\\ultralytics_yolov5_master\n",
      "YOLOv5  2023-2-23 Python-3.10.8 torch-1.11.0+cpu CPU\n",
      "\n",
      "Fusing layers... \n",
      "YOLOv5n summary: 213 layers, 1867405 parameters, 0 gradients\n",
      "Adding AutoShape... \n"
     ]
    }
   ],
   "source": [
    "modelo = torch.hub.load('ultralytics/yolov5','yolov5n')"
   ]
  },
  {
   "cell_type": "code",
   "execution_count": 6,
   "metadata": {},
   "outputs": [],
   "source": [
    "cap = cv2.VideoCapture(0)\n",
    "while cap.isOpened():\n",
    "    _, frame = cap.read()\n",
    "\n",
    "    saida = modelo(frame)\n",
    "\n",
    "    cv2.imshow('YOLO', np.squeeze(saida.render()))\n",
    "\n",
    "    if cv2.waitKey(10) & 0xFF == ord('c'):\n",
    "        break\n",
    "cap.release()\n",
    "cv2.destroyAllWindows()"
   ]
  }
 ],
 "metadata": {
  "kernelspec": {
   "display_name": "Python 3",
   "language": "python",
   "name": "python3"
  },
  "language_info": {
   "codemirror_mode": {
    "name": "ipython",
    "version": 3
   },
   "file_extension": ".py",
   "mimetype": "text/x-python",
   "name": "python",
   "nbconvert_exporter": "python",
   "pygments_lexer": "ipython3",
   "version": "3.10.8"
  },
  "orig_nbformat": 4,
  "vscode": {
   "interpreter": {
    "hash": "4ea59fc0eb77ceecd4767767145fcf13aaf7fce332c626e18a925bfef3285741"
   }
  }
 },
 "nbformat": 4,
 "nbformat_minor": 2
}
